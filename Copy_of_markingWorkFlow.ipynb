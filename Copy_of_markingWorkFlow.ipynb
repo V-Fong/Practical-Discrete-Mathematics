{
  "nbformat": 4,
  "nbformat_minor": 0,
  "metadata": {
    "colab": {
      "provenance": [],
      "include_colab_link": true
    },
    "kernelspec": {
      "name": "python3",
      "display_name": "Python 3"
    },
    "language_info": {
      "name": "python"
    }
  },
  "cells": [
    {
      "cell_type": "markdown",
      "metadata": {
        "id": "view-in-github",
        "colab_type": "text"
      },
      "source": [
        "<a href=\"https://colab.research.google.com/github/V-Fong/Practical-Discrete-Mathematics/blob/master/Copy_of_markingWorkFlow.ipynb\" target=\"_parent\"><img src=\"https://colab.research.google.com/assets/colab-badge.svg\" alt=\"Open In Colab\"/></a>"
      ]
    },
    {
      "cell_type": "markdown",
      "source": [
        "installing pdfminer"
      ],
      "metadata": {
        "id": "h9q19lmb9_kn"
      }
    },
    {
      "cell_type": "code",
      "source": [
        "!pip install pdfminer.six\n"
      ],
      "metadata": {
        "colab": {
          "base_uri": "https://localhost:8080/"
        },
        "id": "BRRm8SIAQGZ3",
        "outputId": "af74910f-0dd6-4e2d-e4c3-68803e2f7887"
      },
      "execution_count": null,
      "outputs": [
        {
          "output_type": "stream",
          "name": "stdout",
          "text": [
            "Looking in indexes: https://pypi.org/simple, https://us-python.pkg.dev/colab-wheels/public/simple/\n",
            "Collecting pdfminer.six\n",
            "  Downloading pdfminer.six-20221105-py3-none-any.whl (5.6 MB)\n",
            "\u001b[2K     \u001b[90m━━━━━━━━━━━━━━━━━━━━━━━━━━━━━━━━━━━━━━━━\u001b[0m \u001b[32m5.6/5.6 MB\u001b[0m \u001b[31m43.2 MB/s\u001b[0m eta \u001b[36m0:00:00\u001b[0m\n",
            "\u001b[?25hRequirement already satisfied: charset-normalizer>=2.0.0 in /usr/local/lib/python3.9/dist-packages (from pdfminer.six) (2.0.12)\n",
            "Requirement already satisfied: cryptography>=36.0.0 in /usr/local/lib/python3.9/dist-packages (from pdfminer.six) (40.0.1)\n",
            "Requirement already satisfied: cffi>=1.12 in /usr/local/lib/python3.9/dist-packages (from cryptography>=36.0.0->pdfminer.six) (1.15.1)\n",
            "Requirement already satisfied: pycparser in /usr/local/lib/python3.9/dist-packages (from cffi>=1.12->cryptography>=36.0.0->pdfminer.six) (2.21)\n",
            "Installing collected packages: pdfminer.six\n",
            "Successfully installed pdfminer.six-20221105\n"
          ]
        }
      ]
    },
    {
      "cell_type": "markdown",
      "source": [
        "use PDF miner library"
      ],
      "metadata": {
        "id": "EB45-2KUNeKC"
      }
    },
    {
      "cell_type": "code",
      "source": [
        "# Import required libraries\n",
        "import io\n",
        "import re\n",
        "import csv\n",
        "\n",
        "#import google.auth\n",
        "#from googleapiclient.discovery import build\n",
        "#from googleapiclient.errors import HttpError\n",
        "\n",
        "import fitz\n",
        "from pdfminer.pdfinterp import PDFResourceManager, PDFPageInterpreter\n",
        "from pdfminer.converter import TextConverter\n",
        "from pdfminer.layout import LAParams\n",
        "from pdfminer.pdfpage import PDFPage\n",
        "from pdfminer.pdfdocument import PDFDocument\n",
        "from pdfminer.pdfparser import PDFParser\n",
        "\n",
        "\n"
      ],
      "metadata": {
        "id": "3QZrxXl8Ngpp"
      },
      "execution_count": null,
      "outputs": []
    },
    {
      "cell_type": "markdown",
      "source": [
        "define function to extract text from PDF\n"
      ],
      "metadata": {
        "id": "iYOpp16aORRg"
      }
    },
    {
      "cell_type": "code",
      "source": [
        "# Define function to extract text from PDF using PDFminer\n",
        "def extract_text_from_pdf(pdf_file):\n",
        "    output_string = io.StringIO()\n",
        "    with open(pdf_file, 'rb') as fh:\n",
        "        parser = PDFParser(fh)\n",
        "        doc = PDFDocument(parser)\n",
        "        rsrcmgr = PDFResourceManager()\n",
        "        device = TextConverter(rsrcmgr, output_string, laparams=LAParams())\n",
        "        interpreter = PDFPageInterpreter(rsrcmgr, device)\n",
        "        for page in PDFPage.create_pages(doc):\n",
        "            interpreter.process_page(page)\n",
        "    return output_string.getvalue()\n",
        "\n"
      ],
      "metadata": {
        "id": "Nyi8-0_mOSz4"
      },
      "execution_count": null,
      "outputs": []
    },
    {
      "cell_type": "markdown",
      "source": [
        "define a function by using OCR to find the question"
      ],
      "metadata": {
        "id": "TckrYQbmQ9Me"
      }
    },
    {
      "cell_type": "code",
      "source": [
        "!pip install pytesseract\n",
        "!apt install tesseract-ocr\n",
        "!pip install pdfminer.six\n",
        "\n"
      ],
      "metadata": {
        "id": "hGlDLz_6YRoT",
        "colab": {
          "base_uri": "https://localhost:8080/"
        },
        "outputId": "6b8d90a5-2725-4240-ad0a-e8263a4f9518"
      },
      "execution_count": null,
      "outputs": [
        {
          "output_type": "stream",
          "name": "stdout",
          "text": [
            "Looking in indexes: https://pypi.org/simple, https://us-python.pkg.dev/colab-wheels/public/simple/\n",
            "Collecting pytesseract\n",
            "  Downloading pytesseract-0.3.10-py3-none-any.whl (14 kB)\n",
            "Requirement already satisfied: Pillow>=8.0.0 in /usr/local/lib/python3.9/dist-packages (from pytesseract) (8.4.0)\n",
            "Requirement already satisfied: packaging>=21.3 in /usr/local/lib/python3.9/dist-packages (from pytesseract) (23.0)\n",
            "Installing collected packages: pytesseract\n",
            "Successfully installed pytesseract-0.3.10\n",
            "Reading package lists... Done\n",
            "Building dependency tree       \n",
            "Reading state information... Done\n",
            "The following package was automatically installed and is no longer required:\n",
            "  libnvidia-common-525\n",
            "Use 'apt autoremove' to remove it.\n",
            "The following additional packages will be installed:\n",
            "  tesseract-ocr-eng tesseract-ocr-osd\n",
            "The following NEW packages will be installed:\n",
            "  tesseract-ocr tesseract-ocr-eng tesseract-ocr-osd\n",
            "0 upgraded, 3 newly installed, 0 to remove and 23 not upgraded.\n",
            "Need to get 4,850 kB of archives.\n",
            "After this operation, 16.3 MB of additional disk space will be used.\n",
            "Get:1 http://archive.ubuntu.com/ubuntu focal/universe amd64 tesseract-ocr-eng all 1:4.00~git30-7274cfa-1 [1,598 kB]\n",
            "Get:2 http://archive.ubuntu.com/ubuntu focal/universe amd64 tesseract-ocr-osd all 1:4.00~git30-7274cfa-1 [2,990 kB]\n",
            "Get:3 http://archive.ubuntu.com/ubuntu focal/universe amd64 tesseract-ocr amd64 4.1.1-2build2 [262 kB]\n",
            "Fetched 4,850 kB in 2s (3,148 kB/s)\n",
            "Selecting previously unselected package tesseract-ocr-eng.\n",
            "(Reading database ... 128293 files and directories currently installed.)\n",
            "Preparing to unpack .../tesseract-ocr-eng_1%3a4.00~git30-7274cfa-1_all.deb ...\n",
            "Unpacking tesseract-ocr-eng (1:4.00~git30-7274cfa-1) ...\n",
            "Selecting previously unselected package tesseract-ocr-osd.\n",
            "Preparing to unpack .../tesseract-ocr-osd_1%3a4.00~git30-7274cfa-1_all.deb ...\n",
            "Unpacking tesseract-ocr-osd (1:4.00~git30-7274cfa-1) ...\n",
            "Selecting previously unselected package tesseract-ocr.\n",
            "Preparing to unpack .../tesseract-ocr_4.1.1-2build2_amd64.deb ...\n",
            "Unpacking tesseract-ocr (4.1.1-2build2) ...\n",
            "Setting up tesseract-ocr-eng (1:4.00~git30-7274cfa-1) ...\n",
            "Setting up tesseract-ocr-osd (1:4.00~git30-7274cfa-1) ...\n",
            "Setting up tesseract-ocr (4.1.1-2build2) ...\n",
            "Processing triggers for man-db (2.9.1-1) ...\n",
            "Looking in indexes: https://pypi.org/simple, https://us-python.pkg.dev/colab-wheels/public/simple/\n",
            "Collecting pdfminer.six\n",
            "  Downloading pdfminer.six-20221105-py3-none-any.whl (5.6 MB)\n",
            "\u001b[2K     \u001b[90m━━━━━━━━━━━━━━━━━━━━━━━━━━━━━━━━━━━━━━━━\u001b[0m \u001b[32m5.6/5.6 MB\u001b[0m \u001b[31m52.7 MB/s\u001b[0m eta \u001b[36m0:00:00\u001b[0m\n",
            "\u001b[?25hRequirement already satisfied: cryptography>=36.0.0 in /usr/local/lib/python3.9/dist-packages (from pdfminer.six) (40.0.1)\n",
            "Requirement already satisfied: charset-normalizer>=2.0.0 in /usr/local/lib/python3.9/dist-packages (from pdfminer.six) (2.0.12)\n",
            "Requirement already satisfied: cffi>=1.12 in /usr/local/lib/python3.9/dist-packages (from cryptography>=36.0.0->pdfminer.six) (1.15.1)\n",
            "Requirement already satisfied: pycparser in /usr/local/lib/python3.9/dist-packages (from cffi>=1.12->cryptography>=36.0.0->pdfminer.six) (2.21)\n",
            "Installing collected packages: pdfminer.six\n",
            "Successfully installed pdfminer.six-20221105\n"
          ]
        }
      ]
    },
    {
      "cell_type": "code",
      "source": [
        "#!pip install pdfminer.six\n",
        "\n",
        "from pdfminer.high_level import extract_text\n",
        "\n",
        "text = extract_text('/content/sample_data/Anthony _Chan_BTIS1013_2023A_test_B220091B.pdf')\n",
        "print(text.split('\\n')[0])\n"
      ],
      "metadata": {
        "colab": {
          "base_uri": "https://localhost:8080/"
        },
        "id": "3cID_e9Y-wuE",
        "outputId": "15aaaf5d-f700-432c-b3ac-ad52fbafa980"
      },
      "execution_count": null,
      "outputs": [
        {
          "output_type": "stream",
          "name": "stdout",
          "text": [
            "SOUTHERN UNIVERSITY COLLEGE \n"
          ]
        }
      ]
    },
    {
      "cell_type": "markdown",
      "source": [
        "In addition to the pytesseract OCR library, you can also use other OCR libraries in Python, such as OCRopus, Textract, Kraken, and Google Cloud Vision API. The choice of OCR library will depend on your specific requirements, such as the complexity of the text, the format of the document, and the accuracy of the OCR.\n",
        "\n",
        "Note that OCR is not always 100% accurate, especially for complex documents such as PDFs. Therefore, it's a good idea to perform some post-processing on the extracted text to clean it up and improve its accuracy. This can include techniques such as spell checking, text normalization, and language modeling.\n",
        "\n",
        "Also, keep in mind that the performance of OCR can be affected by various factors such as the quality of the input document, the resolution of the scanned image, and the language of the text. Therefore, it's a good idea to experiment with different OCR settings and parameters to find the optimal configuration for your specific use case."
      ],
      "metadata": {
        "id": "ES513_bEYeFS"
      }
    },
    {
      "cell_type": "code",
      "source": [
        "import pytesseract\n",
        "from pdfminer.high_level import extract_text\n",
        "\n",
        "# Define the OCR function\n",
        "def detect_question_numbers(pdf_file):\n",
        "    # Extract the text from the PDF file\n",
        "    text = extract_text(pdf_file)\n",
        "\n",
        "    # Split the text into lines\n",
        "    lines = text.split('\\n')\n",
        "\n",
        "    # Loop through the lines and look for question numbers\n",
        "    question_numbers = []\n",
        "    for line in lines:\n",
        "        # Use OCR to detect the text in the line\n",
        "        ocr_text = pytesseract.image_to_string(line)\n",
        "\n",
        "        # Look for a pattern that matches a question number (e.g. \"Question 1:\")\n",
        "        if 'Q1' in ocr_text.lower():\n",
        "            if ':' in line:\n",
        "                question_number = line.split(':')[0].strip()\n",
        "                if question_number.isnumeric():\n",
        "                    question_numbers.append(int(question_number))\n",
        "\n",
        "    # Return the detected question numbers\n",
        "    return question_numbers\n"
      ],
      "metadata": {
        "id": "9Jb7C2HyRCO6"
      },
      "execution_count": null,
      "outputs": []
    },
    {
      "cell_type": "code",
      "source": [
        "def extract_text_from_pdf(pdf_path):\n",
        "    resource_manager = PDFResourceManager()\n",
        "    fake_file_handle = StringIO()\n",
        "    converter = TextConverter(resource_manager, fake_file_handle, laparams=LAParams())\n",
        "    page_interpreter = PDFPageInterpreter(resource_manager, converter)\n",
        "\n",
        "    with open(pdf_path, 'rb') as fh:\n",
        "        for page in PDFPage.get_pages(fh, caching=True, check_extractable=True):\n",
        "            page_interpreter.process_page(page)\n",
        "\n",
        "        text = fake_file_handle.getvalue()\n",
        "\n",
        "    # close open handles\n",
        "    converter.close()\n",
        "    fake_file_handle.close()\n",
        "\n",
        "    return text"
      ],
      "metadata": {
        "id": "_fHB3VaSPh0b"
      },
      "execution_count": null,
      "outputs": []
    },
    {
      "cell_type": "code",
      "source": [
        "def extract_test_pdfMiner(pdfPath):\n",
        "  text = extract_text(pdfPath)\n",
        "  #print(text.split('\\n')[0])\n",
        "  return text"
      ],
      "metadata": {
        "id": "PyI26bYE_L5V"
      },
      "execution_count": null,
      "outputs": []
    },
    {
      "cell_type": "code",
      "source": [
        "#if __name__ == '__main__':\n",
        "pdf_path = '/content/sample_data/Anthony _Chan_BTIS1013_2023A_test_B220091B.pdf'\n",
        "text = extract_test_pdfMiner(pdf_path)\n",
        "print(text)\n"
      ],
      "metadata": {
        "id": "YrNIa_PMYX7x",
        "colab": {
          "base_uri": "https://localhost:8080/"
        },
        "outputId": "e1e3af8e-83ee-408c-d501-f75c91631f9e"
      },
      "execution_count": null,
      "outputs": [
        {
          "output_type": "stream",
          "name": "stdout",
          "text": [
            "SOUTHERN UNIVERSITY COLLEGE \n",
            "\n",
            "SEMESTER A \n",
            "\n",
            "YEAR 2023 \n",
            "\n",
            "TEST \n",
            "\n",
            "BTIS1013 INTRODUCTION TO INFORMATION TECHNOLOGY \n",
            "\n",
            "DATE: 04/04/2023 \n",
            "\n",
            "DURATION: 2 HOURS \n",
            "\n",
            "BACHELOR OF SOFTWARE ENGINEERING (HONOURS) \n",
            "YEAR ONE  \n",
            "\n",
            "Instruction to Candidates: \n",
            "\n",
            "Answer ALL questions on this document. \n",
            "The document must be submitted as Portable Document Format (PDF). \n",
            "Name your test answer scheme as “BTIS1013_2023A_test_<studentID>”. For example: \n",
            "BTIS1013_2023A_test_B123456B.pdf \n",
            "Submit or upload your assignment on BTIS1013_Test \n",
            "Marks will also be deducted for not adhering to the instructions. \n",
            "Screen capture and “copy paste” is not allowed. \n",
            "\n",
            "Fill in the blanks \n",
            "\n",
            "Student ID: B220091B \n",
            "\n",
            "Student Name: Anthony Chan Yong Xian \n",
            "\n",
            "This question paper consists of 4 questions on 6 printed pages. \n",
            "\n",
            " \n",
            " \n",
            " \n",
            " \n",
            " \n",
            " \n",
            " \n",
            " \n",
            " \n",
            " \n",
            " \n",
            " \n",
            " \n",
            " \n",
            " \n",
            " \n",
            " \n",
            " \n",
            " \n",
            " \n",
            " \n",
            " \n",
            " \n",
            " \n",
            " \n",
            " \n",
            " \n",
            " \n",
            " \n",
            " \n",
            " \n",
            " \n",
            "\fBTIS1013 INTRODUCTION TO INFORMATION TECHNOLOGY \n",
            "\n",
            "2 \n",
            "\n",
            "Q1.  From the new geopolitical aspect, we can see how the location of the Borneo Islands has \n",
            "\n",
            "become a strategic area. Even Indonesia is moving its capital to Borneo and Malaysia \n",
            "government also intends to give Sarawak and Sabah the highest priority in 5G network \n",
            "development planning.  \n",
            "\n",
            "Source adapted https://www.theborneopost.com/2021/11/28/sarawak-among-earliest-\n",
            "states-to-get-5g-rollout-next-year/  \n",
            "\n",
            "Compare WIMAX, 4G and 5G network in table format. Which telecommunication plan \n",
            "is more suitable for Sarawak? State your reasons. \n",
            "\n",
            "[Total: 25 marks] \n",
            "\n",
            "Q1 \n",
            "\n",
            "Features \n",
            "\n",
            "WIMAX \n",
            "\n",
            "4G \n",
            "\n",
            "5G \n",
            "\n",
            "Maximum \n",
            "Downstream \n",
            "\n",
            "Maximum \n",
            "Upstream \n",
            "\n",
            "75Mbps \n",
            "\n",
            "1Gbps \n",
            "\n",
            "20Gbps \n",
            "\n",
            "15Mbps \n",
            "\n",
            "100Mbps \n",
            "\n",
            "10Gbps \n",
            "\n",
            "Area of coverage \n",
            "\n",
            "5-10km \n",
            "\n",
            "1-10km \n",
            "\n",
            "0.1-1km \n",
            "\n",
            "Security \n",
            "\n",
            "WiMAX MAC \n",
            "\n",
            "Lessly access point \n",
            "\n",
            "Better than 4G \n",
            "becuase more of \n",
            "the access point \n",
            "\n",
            "Spending Cost \n",
            "\n",
            "Cheapest \n",
            "\n",
            "Medium \n",
            "\n",
            "Highest \n",
            "\n",
            "Latency \n",
            "\n",
            "20-40ms \n",
            "\n",
            "36-48 ms \n",
            "\n",
            "17-26 ms \n",
            "\n",
            "Maintain Fees \n",
            "\n",
            "Moderate to high \n",
            "\n",
            "Moderate \n",
            "\n",
            "High \n",
            "\n",
            "I think WiMAX is suitable telecommunication plan for Sarawak because the local area is \n",
            "sparsely populated and its wide coverage, low cost and stable speed meet the needs of \n",
            "local people for internet. \n",
            "\n",
            "This question paper consists of 4 questions on 4 printed pages. \n",
            "\n",
            " \n",
            " \n",
            " \n",
            " \n",
            " \n",
            " \n",
            " \n",
            " \n",
            " \n",
            " \n",
            " \n",
            " \n",
            " \n",
            " \n",
            " \n",
            " \n",
            " \n",
            " \n",
            " \n",
            " \n",
            " \n",
            " \n",
            " \n",
            " \n",
            " \n",
            " \n",
            " \n",
            " \n",
            " \n",
            " \n",
            " \n",
            " \n",
            " \n",
            " \n",
            " \n",
            " \n",
            " \n",
            " \n",
            " \n",
            " \n",
            " \n",
            " \n",
            " \n",
            " \n",
            " \n",
            " \n",
            " \n",
            "\fBTIS1013 INTRODUCTION TO INFORMATION TECHNOLOGY \n",
            "\n",
            "3 \n",
            "\n",
            "Q2.  Alex is form two (2) students from underprivilege family. Assume you are a volunteer \n",
            "with Charity group A. The president is requesting you to compare THREE (3) laptops \n",
            "from Lazada or Shopee website for Alex. The budget is RM3,500. \n",
            "\n",
            "(a)  Compare THREE (3) laptops that is suitable for Alex. Include reference link.                                                           \n",
            "\n",
            "(20 marks) \n",
            "\n",
            "Q2a \n",
            "\n",
            "Asus Vivobook TOUCH SCREEN M1502I-\n",
            "AE8163WS Silver \n",
            "\n",
            "Acer Aspire 5 Intel 12th Gen Core™ i5 \n",
            "Laptop - A515-57-54UD \n",
            "\n",
            "Price(RM) \n",
            "\n",
            " 2735 \n",
            "\n",
            " 2699 \n",
            "\n",
            "CPU \n",
            "\n",
            "AMD Ryzen™ 7 4800H Mobile Processor \n",
            "(8C/16T, 12MB Cache, 4.2 GHz Max Boost) \n",
            "\n",
            " Intel® Core™ i5-1235U processor \n",
            "\n",
            "RAM \n",
            "\n",
            " 8GB DDR4(Extra 1 Ram slot) \n",
            "\n",
            "8GB DDR4 (8GB SoDimm, upgradable up to \n",
            "32GB Dual Channel Memory) \n",
            "\n",
            "Screen \n",
            "size \n",
            "\n",
            "15.6-inch TOUCH SCREEN FHD (1920 x \n",
            "1080) \n",
            "\n",
            "15.6\" display with IPS (In-Plane Switching) \n",
            "technology, FHD 1920 x 1080 \n",
            "\n",
            "Weight \n",
            "\n",
            " 1.7kg \n",
            "\n",
            " 1.76kg \n",
            "\n",
            "GPU \n",
            "\n",
            " AMD Radeon™ Graphics \n",
            "\n",
            "Intel® UHD Graphics \n",
            "\n",
            "Warranty  2 Year International Carry-in & 1st Year \n",
            "Accidental Protect (Battery and adapter \n",
            "for 1 year) \n",
            "\n",
            "3 Year Local Warranty with 1st Year ITW \n",
            "\n",
            "Refresh \n",
            "Rate \n",
            "\n",
            "Hard \n",
            "Drive \n",
            "\n",
            "Reference\n",
            "s \n",
            "\n",
            "60Hz \n",
            "\n",
            "60Hz \n",
            "\n",
            " 512GB M.2 NVMe™ PCIe® 3.0 SSD \n",
            "\n",
            " 512 GB PCIe Gen4, 16 Gb/s, NVMe \n",
            "\n",
            "https://shopee.com.my/Asus-Vivobook-\n",
            "TOUCH-SCREEN-M1502I-AE8163WS-\n",
            "Silver-or-AE8162WS-Blue-Laptop-(AMD-\n",
            "R7-4800H-8G-512G-RADEON-15.6-WIN11-\n",
            "OPI)-\n",
            "i.647632255.21445520552?sp_atk=f7e544\n",
            "2e-1144-4254-9260-\n",
            "dc394932f95e&xptdk=f7e5442e-1144-\n",
            "4254-9260-dc394932f95e \n",
            "\n",
            "https://shopee.com.my/Acer-Aspire-5-\n",
            "Intel-12th-Gen-Core%E2%84%A2-i5-\n",
            "Laptop-A515-57-54UD-(Steel-Gray)-A515-\n",
            "57-52Y8-(Haze-Gold)-\n",
            "i.215858870.21221028933?sp_atk=d7ab17\n",
            "43-60f3-44c5-aa23-\n",
            "0eadbc8dda9b&xptdk=d7ab1743-60f3-\n",
            "44c5-aa23-0eadbc8dda9b \n",
            "\n",
            "This question paper consists of 4 questions on 4 printed pages. \n",
            "\n",
            " \n",
            " \n",
            " \n",
            " \n",
            " \n",
            " \n",
            " \n",
            " \n",
            " \n",
            " \n",
            " \n",
            " \n",
            "\fBTIS1013 INTRODUCTION TO INFORMATION TECHNOLOGY \n",
            "\n",
            "4 \n",
            "\n",
            "Model \n",
            "\n",
            "Huawei MateBook D15  \n",
            "\n",
            "Price(RM) \n",
            "\n",
            " 2299 \n",
            "\n",
            "CPU \n",
            "\n",
            "RAM \n",
            "\n",
            "Screen size \n",
            "\n",
            "Weight \n",
            "\n",
            "GPU \n",
            "\n",
            "AMD Ryzen™ 5 5500U Processor \n",
            "\n",
            "8GB DDR4 2400MHz \n",
            "\n",
            "15.6 Inch, 1920 x 1080 pixels, 141 pixels per \n",
            "inch (PPI) \n",
            "\n",
            "1.63kg \n",
            "\n",
            "Radeon™ Vega 8 Graphic \n",
            "\n",
            "Warranty \n",
            "\n",
            "1 Year \n",
            "\n",
            "Hard Drive \n",
            "\n",
            "512GB NVMe PCIe SSD \n",
            "\n",
            "References \n",
            "\n",
            "https://shopee.com.my/Huawei-MateBook-\n",
            "D15-8GB-512GB-Windows-11-AMD-Ryzen-\n",
            "5-5500U-Processor--\n",
            "i.123793634.4848442386?sp_atk=29b02af6-\n",
            "a77f-43ba-9974-\n",
            "5726467962fb&xptdk=29b02af6-a77f-43ba-\n",
            "9974-5726467962fb \n",
            "\n",
            "(b) \n",
            "\n",
            "Suggest the most suitable laptop for Alex.                                                 (2 marks) \n",
            "\n",
            "Q2b \n",
            "I think Acer Aspire 5 Intel 12th Gen Core™ i5 Laptop - A515-57-54UD is the most \n",
            "suitable laptop for Alex because like warranty, CPU, GPU and etc functions and features is \n",
            "more durable and stable. \n",
            "\n",
            "(c) \n",
            "\n",
            "Suggest THREE (3) gadgets within the remaining budget for Alex.         (3 marks) \n",
            "\n",
            "Q2c \n",
            "Professional Rechargeable Wireless Gaming Mouse Fantech WGC2 Venom II with \n",
            "PIXART Gaming Sensor, Razer Blackshark V2 X Multi-Platform Wired Headset Gaming \n",
            "7.1 Surround Sound Active Noise Cancellation, LEAVEN K28 61-Keys Bluetooth 5.0 \n",
            "Rechargeable Wireless Keyboard RGB Light Mechanical Gaming Keyboard. These three \n",
            "gadgets are to have a better environment for learning. \n",
            "\n",
            " [Total: 25 marks] \n",
            "\n",
            "Q3.  Assume you are given RM2000 budget for your subject project on Power Apps.  \n",
            "\n",
            "This question paper consists of 4 questions on 4 printed pages. \n",
            "\n",
            " \n",
            " \n",
            " \n",
            " \n",
            " \n",
            " \n",
            " \n",
            " \n",
            " \n",
            " \n",
            " \n",
            " \n",
            " \n",
            " \n",
            "\f5 \n",
            "\n",
            "BTIS1013 INTRODUCTION TO INFORMATION TECHNOLOGY \n",
            "\n",
            "(a)  Compare FOUR (4) web hosting plan or cloud computing plans that are suitable \n",
            "\n",
            "for your project.                                                                                       (20 marks) \n",
            "\n",
            "Q3a \n",
            "\n",
            "Google Cloud \n",
            "website \n",
            "hosting \n",
            "HostGator \n",
            "Web Hosting \n",
            "\n",
            "Bluehost \n",
            "Shared \n",
            "Hosting \n",
            "\n",
            "AWS Elastic \n",
            "Compute \n",
            "Cloud \n",
            "\n",
            "Features \n",
            "\n",
            "Prices \n",
            "\n",
            "Host static and dynamic websites in the \n",
            "cloud with custom or point-and-click \n",
            "deployment solutions. \n",
            "HostGator is an excellent web host that \n",
            "offers feature-rich plans for a variety of \n",
            "website needs, including cloud-based \n",
            "hosting. HostGator lacks a Windows-\n",
            "based cloud server option, but its Linux \n",
            "platform service is attractive and well \n",
            "worth considering. \n",
            "Bluehost Shared Hosting provides a \n",
            "reliable and secure environment for \n",
            "your website. It is a low-cost option for \n",
            "new users that is affordable. \n",
            "Scalable computing power in the cloud. \n",
            "Can be applied to EC2, using multiple \n",
            "data centres to host websites, for sites \n",
            "that require load balancing, automatic \n",
            "scaling or external databases \n",
            "\n",
            "173 USD per months \n",
            "\n",
            "156 USD per months \n",
            "\n",
            "101 USD per months \n",
            "\n",
            "144 USD per months \n",
            "\n",
            "(b) \n",
            "\n",
            "Suggest and describe FIVE (5) suitable application subscription plans for your \n",
            "project.                                                                                                        (5 marks) \n",
            "\n",
            "Q3b \n",
            "1) Grammarly \n",
            "2) Canva \n",
            "3) Quillbot \n",
            "4) Chatgpt \n",
            "5) AWS Elastic Compute Cloud \n",
            "\n",
            " [Total: 25 marks] \n",
            "\n",
            "Q4.  Tzu Chi is a charity run entirely by volunteers, and one of its primary missions is to \n",
            "\n",
            "promote environmentally responsible practises like recycling. Tzu Chi volunteers are \n",
            "present at designated recycling collection places on the third Sunday of every month to \n",
            "help members of the public in sorting and classifying the materials they wish to recycle in \n",
            "accordance with the restrictions imposed by the various vendors. These collection \n",
            "locations are used by sustainable development vendors who leave their huge plastic \n",
            "containers or trailers there for the public to utilise. \n",
            "\n",
            "This question paper consists of 4 questions on 4 printed pages. \n",
            "\n",
            " \n",
            " \n",
            " \n",
            " \n",
            " \n",
            "          \n",
            " \n",
            " \n",
            " \n",
            " \n",
            " \n",
            " \n",
            " \n",
            "\fBTIS1013 INTRODUCTION TO INFORMATION TECHNOLOGY \n",
            "\n",
            "6 \n",
            "\n",
            "At approximately 11 in the morning, the vendor will begin to weigh and tally the \n",
            "recyclable products that have been gathered at the various collecting stations. The current \n",
            "price of these things on the market serves as the basis for determining their value. The \n",
            "money that is donated by the seller is given to the volunteer leaders of Tzu Chi, who then \n",
            "utilise it to fund their initiatives. The recycling goods that have been sorted into their \n",
            "respective categories are driven back to the vendor's warehouse by a truck. \n",
            "\n",
            "Tzu Chi fosters actions that contribute to sustainable development and promotes trash \n",
            "reduction, recycling, and reuse through the implementation of this campaign. \n",
            "Additionally, the initiative affords members of the public the chance to contribute to the \n",
            "preservation of the natural world and have a constructive effect on the community in \n",
            "which they live. The partnership between Tzu Chi and sustainable development vendors \n",
            "makes it easier to correctly handle and dispose of recyclable items. This helps to ensure \n",
            "that these materials do not wind up in landfills, where they would contribute to the \n",
            "damage of the environment. \n",
            "\n",
            "Visualise the information systems mentioned by Mr. Chong Hai Fong \n",
            "\n",
            "    [Total: 25 marks] \n",
            "\n",
            "Q4 \n",
            "\n",
            "________________________________________ \n",
            "\n",
            "This question paper consists of 4 questions on 4 printed pages. \n",
            "\n",
            " \n",
            " \n",
            " \n",
            " \n",
            " \n",
            " \n",
            " \n",
            " \n",
            " \n",
            " \n",
            "\f\n"
          ]
        }
      ]
    },
    {
      "cell_type": "code",
      "source": [
        "# Find a specific keyword in the text\n",
        "keyword = 'Q1'\n",
        "if keyword in text:\n",
        "    print(f\"Keyword '{keyword}' found in the PDF file!\")\n",
        "else:\n",
        "    print(f\"Keyword '{keyword}' not found in the PDF file.\")"
      ],
      "metadata": {
        "colab": {
          "base_uri": "https://localhost:8080/"
        },
        "id": "_Ch7_MPyAQ_D",
        "outputId": "da13d52a-fa47-4c8d-cf47-709bb55b3134"
      },
      "execution_count": null,
      "outputs": [
        {
          "output_type": "stream",
          "name": "stdout",
          "text": [
            "Keyword 'Q1' found in the PDF file!\n"
          ]
        }
      ]
    },
    {
      "cell_type": "markdown",
      "source": [
        "Camelot is a Python library that can be used for table detection and extraction from PDFs. It can detect tables based on the presence of lines or other visual cues that indicate table structure. Here's an example of how you can use Camelot to extract tables from a PDF:"
      ],
      "metadata": {
        "id": "niRGnpZPPc3F"
      }
    },
    {
      "cell_type": "code",
      "source": [
        "!pip install camelot-py[cv]\n",
        "\n",
        "import camelot\n",
        "import os\n",
        "\n",
        "filePath = '/content/sample_data/Anthony _Chan_BTIS1013_2023A_test_B220091B.pdf'\n",
        "if os.path.exists(filePath):\n",
        "    print('File found!')\n",
        "    # Load the PDF file and extract tables\n",
        "    tables = camelot.read_pdf('/content/sample_data/Anthony _Chan_BTIS1013_2023A_test_B220091B.pdf', pages='all')\n",
        "\n",
        "    # Print the number of tables detected\n",
        "    print(f\"Number of tables detected: {tables.n}\")\n",
        "\n",
        "    # Print the first table\n",
        "    print(tables[0].df)\n",
        "else:\n",
        "    print('File not found.')\n",
        "\n"
      ],
      "metadata": {
        "colab": {
          "base_uri": "https://localhost:8080/",
          "height": 903
        },
        "id": "nWRD-D1wAnEw",
        "outputId": "864b1cf2-709c-4b4d-8dbd-23f82440faf0"
      },
      "execution_count": null,
      "outputs": [
        {
          "output_type": "stream",
          "name": "stdout",
          "text": [
            "Looking in indexes: https://pypi.org/simple, https://us-python.pkg.dev/colab-wheels/public/simple/\n",
            "Requirement already satisfied: camelot-py[cv] in /usr/local/lib/python3.9/dist-packages (0.11.0)\n",
            "Requirement already satisfied: numpy>=1.13.3 in /usr/local/lib/python3.9/dist-packages (from camelot-py[cv]) (1.22.4)\n",
            "Requirement already satisfied: pdfminer.six>=20200726 in /usr/local/lib/python3.9/dist-packages (from camelot-py[cv]) (20221105)\n",
            "Requirement already satisfied: pypdf>=3.0.0 in /usr/local/lib/python3.9/dist-packages (from camelot-py[cv]) (3.7.0)\n",
            "Requirement already satisfied: openpyxl>=2.5.8 in /usr/local/lib/python3.9/dist-packages (from camelot-py[cv]) (3.0.10)\n",
            "Requirement already satisfied: chardet>=3.0.4 in /usr/local/lib/python3.9/dist-packages (from camelot-py[cv]) (4.0.0)\n",
            "Requirement already satisfied: tabulate>=0.8.9 in /usr/local/lib/python3.9/dist-packages (from camelot-py[cv]) (0.8.10)\n",
            "Requirement already satisfied: click>=6.7 in /usr/local/lib/python3.9/dist-packages (from camelot-py[cv]) (8.1.3)\n",
            "Requirement already satisfied: pandas>=0.23.4 in /usr/local/lib/python3.9/dist-packages (from camelot-py[cv]) (1.4.4)\n",
            "Requirement already satisfied: opencv-python>=3.4.2.17 in /usr/local/lib/python3.9/dist-packages (from camelot-py[cv]) (4.7.0.72)\n",
            "Requirement already satisfied: pdftopng>=0.2.3 in /usr/local/lib/python3.9/dist-packages (from camelot-py[cv]) (0.2.3)\n",
            "Requirement already satisfied: ghostscript>=0.7 in /usr/local/lib/python3.9/dist-packages (from camelot-py[cv]) (0.7)\n",
            "Requirement already satisfied: setuptools>=38.6.0 in /usr/local/lib/python3.9/dist-packages (from ghostscript>=0.7->camelot-py[cv]) (67.6.1)\n",
            "Requirement already satisfied: et-xmlfile in /usr/local/lib/python3.9/dist-packages (from openpyxl>=2.5.8->camelot-py[cv]) (1.1.0)\n",
            "Requirement already satisfied: pytz>=2020.1 in /usr/local/lib/python3.9/dist-packages (from pandas>=0.23.4->camelot-py[cv]) (2022.7.1)\n",
            "Requirement already satisfied: python-dateutil>=2.8.1 in /usr/local/lib/python3.9/dist-packages (from pandas>=0.23.4->camelot-py[cv]) (2.8.2)\n",
            "Requirement already satisfied: charset-normalizer>=2.0.0 in /usr/local/lib/python3.9/dist-packages (from pdfminer.six>=20200726->camelot-py[cv]) (2.0.12)\n",
            "Requirement already satisfied: cryptography>=36.0.0 in /usr/local/lib/python3.9/dist-packages (from pdfminer.six>=20200726->camelot-py[cv]) (40.0.1)\n",
            "Requirement already satisfied: typing_extensions>=3.10.0.0 in /usr/local/lib/python3.9/dist-packages (from pypdf>=3.0.0->camelot-py[cv]) (4.5.0)\n",
            "Requirement already satisfied: cffi>=1.12 in /usr/local/lib/python3.9/dist-packages (from cryptography>=36.0.0->pdfminer.six>=20200726->camelot-py[cv]) (1.15.1)\n",
            "Requirement already satisfied: six>=1.5 in /usr/local/lib/python3.9/dist-packages (from python-dateutil>=2.8.1->pandas>=0.23.4->camelot-py[cv]) (1.16.0)\n",
            "Requirement already satisfied: pycparser in /usr/local/lib/python3.9/dist-packages (from cffi>=1.12->cryptography>=36.0.0->pdfminer.six>=20200726->camelot-py[cv]) (2.21)\n",
            "File found!\n"
          ]
        },
        {
          "output_type": "error",
          "ename": "OSError",
          "evalue": "ignored",
          "traceback": [
            "\u001b[0;31m---------------------------------------------------------------------------\u001b[0m",
            "\u001b[0;31mOSError\u001b[0m                                   Traceback (most recent call last)",
            "\u001b[0;32m<ipython-input-9-b245ed7ac37b>\u001b[0m in \u001b[0;36m<cell line: 7>\u001b[0;34m()\u001b[0m\n\u001b[1;32m      8\u001b[0m     \u001b[0mprint\u001b[0m\u001b[0;34m(\u001b[0m\u001b[0;34m'File found!'\u001b[0m\u001b[0;34m)\u001b[0m\u001b[0;34m\u001b[0m\u001b[0;34m\u001b[0m\u001b[0m\n\u001b[1;32m      9\u001b[0m     \u001b[0;31m# Load the PDF file and extract tables\u001b[0m\u001b[0;34m\u001b[0m\u001b[0;34m\u001b[0m\u001b[0m\n\u001b[0;32m---> 10\u001b[0;31m     \u001b[0mtables\u001b[0m \u001b[0;34m=\u001b[0m \u001b[0mcamelot\u001b[0m\u001b[0;34m.\u001b[0m\u001b[0mread_pdf\u001b[0m\u001b[0;34m(\u001b[0m\u001b[0;34m'/content/sample_data/Anthony _Chan_BTIS1013_2023A_test_B220091B.pdf'\u001b[0m\u001b[0;34m,\u001b[0m \u001b[0mpages\u001b[0m\u001b[0;34m=\u001b[0m\u001b[0;34m'all'\u001b[0m\u001b[0;34m)\u001b[0m\u001b[0;34m\u001b[0m\u001b[0;34m\u001b[0m\u001b[0m\n\u001b[0m\u001b[1;32m     11\u001b[0m \u001b[0;34m\u001b[0m\u001b[0m\n\u001b[1;32m     12\u001b[0m     \u001b[0;31m# Print the number of tables detected\u001b[0m\u001b[0;34m\u001b[0m\u001b[0;34m\u001b[0m\u001b[0m\n",
            "\u001b[0;32m/usr/local/lib/python3.9/dist-packages/camelot/io.py\u001b[0m in \u001b[0;36mread_pdf\u001b[0;34m(filepath, pages, password, flavor, suppress_stdout, layout_kwargs, **kwargs)\u001b[0m\n\u001b[1;32m    111\u001b[0m         \u001b[0mp\u001b[0m \u001b[0;34m=\u001b[0m \u001b[0mPDFHandler\u001b[0m\u001b[0;34m(\u001b[0m\u001b[0mfilepath\u001b[0m\u001b[0;34m,\u001b[0m \u001b[0mpages\u001b[0m\u001b[0;34m=\u001b[0m\u001b[0mpages\u001b[0m\u001b[0;34m,\u001b[0m \u001b[0mpassword\u001b[0m\u001b[0;34m=\u001b[0m\u001b[0mpassword\u001b[0m\u001b[0;34m)\u001b[0m\u001b[0;34m\u001b[0m\u001b[0;34m\u001b[0m\u001b[0m\n\u001b[1;32m    112\u001b[0m         \u001b[0mkwargs\u001b[0m \u001b[0;34m=\u001b[0m \u001b[0mremove_extra\u001b[0m\u001b[0;34m(\u001b[0m\u001b[0mkwargs\u001b[0m\u001b[0;34m,\u001b[0m \u001b[0mflavor\u001b[0m\u001b[0;34m=\u001b[0m\u001b[0mflavor\u001b[0m\u001b[0;34m)\u001b[0m\u001b[0;34m\u001b[0m\u001b[0;34m\u001b[0m\u001b[0m\n\u001b[0;32m--> 113\u001b[0;31m         tables = p.parse(\n\u001b[0m\u001b[1;32m    114\u001b[0m             \u001b[0mflavor\u001b[0m\u001b[0;34m=\u001b[0m\u001b[0mflavor\u001b[0m\u001b[0;34m,\u001b[0m\u001b[0;34m\u001b[0m\u001b[0;34m\u001b[0m\u001b[0m\n\u001b[1;32m    115\u001b[0m             \u001b[0msuppress_stdout\u001b[0m\u001b[0;34m=\u001b[0m\u001b[0msuppress_stdout\u001b[0m\u001b[0;34m,\u001b[0m\u001b[0;34m\u001b[0m\u001b[0;34m\u001b[0m\u001b[0m\n",
            "\u001b[0;32m/usr/local/lib/python3.9/dist-packages/camelot/handlers.py\u001b[0m in \u001b[0;36mparse\u001b[0;34m(self, flavor, suppress_stdout, layout_kwargs, **kwargs)\u001b[0m\n\u001b[1;32m    174\u001b[0m             \u001b[0mparser\u001b[0m \u001b[0;34m=\u001b[0m \u001b[0mLattice\u001b[0m\u001b[0;34m(\u001b[0m\u001b[0;34m**\u001b[0m\u001b[0mkwargs\u001b[0m\u001b[0;34m)\u001b[0m \u001b[0;32mif\u001b[0m \u001b[0mflavor\u001b[0m \u001b[0;34m==\u001b[0m \u001b[0;34m\"lattice\"\u001b[0m \u001b[0;32melse\u001b[0m \u001b[0mStream\u001b[0m\u001b[0;34m(\u001b[0m\u001b[0;34m**\u001b[0m\u001b[0mkwargs\u001b[0m\u001b[0;34m)\u001b[0m\u001b[0;34m\u001b[0m\u001b[0;34m\u001b[0m\u001b[0m\n\u001b[1;32m    175\u001b[0m             \u001b[0;32mfor\u001b[0m \u001b[0mp\u001b[0m \u001b[0;32min\u001b[0m \u001b[0mpages\u001b[0m\u001b[0;34m:\u001b[0m\u001b[0;34m\u001b[0m\u001b[0;34m\u001b[0m\u001b[0m\n\u001b[0;32m--> 176\u001b[0;31m                 t = parser.extract_tables(\n\u001b[0m\u001b[1;32m    177\u001b[0m                     \u001b[0mp\u001b[0m\u001b[0;34m,\u001b[0m \u001b[0msuppress_stdout\u001b[0m\u001b[0;34m=\u001b[0m\u001b[0msuppress_stdout\u001b[0m\u001b[0;34m,\u001b[0m \u001b[0mlayout_kwargs\u001b[0m\u001b[0;34m=\u001b[0m\u001b[0mlayout_kwargs\u001b[0m\u001b[0;34m\u001b[0m\u001b[0;34m\u001b[0m\u001b[0m\n\u001b[1;32m    178\u001b[0m                 )\n",
            "\u001b[0;32m/usr/local/lib/python3.9/dist-packages/camelot/parsers/lattice.py\u001b[0m in \u001b[0;36mextract_tables\u001b[0;34m(self, filename, suppress_stdout, layout_kwargs)\u001b[0m\n\u001b[1;32m    419\u001b[0m             \u001b[0;32mreturn\u001b[0m \u001b[0;34m[\u001b[0m\u001b[0;34m]\u001b[0m\u001b[0;34m\u001b[0m\u001b[0;34m\u001b[0m\u001b[0m\n\u001b[1;32m    420\u001b[0m \u001b[0;34m\u001b[0m\u001b[0m\n\u001b[0;32m--> 421\u001b[0;31m         \u001b[0mself\u001b[0m\u001b[0;34m.\u001b[0m\u001b[0mbackend\u001b[0m\u001b[0;34m.\u001b[0m\u001b[0mconvert\u001b[0m\u001b[0;34m(\u001b[0m\u001b[0mself\u001b[0m\u001b[0;34m.\u001b[0m\u001b[0mfilename\u001b[0m\u001b[0;34m,\u001b[0m \u001b[0mself\u001b[0m\u001b[0;34m.\u001b[0m\u001b[0mimagename\u001b[0m\u001b[0;34m)\u001b[0m\u001b[0;34m\u001b[0m\u001b[0;34m\u001b[0m\u001b[0m\n\u001b[0m\u001b[1;32m    422\u001b[0m \u001b[0;34m\u001b[0m\u001b[0m\n\u001b[1;32m    423\u001b[0m         \u001b[0mself\u001b[0m\u001b[0;34m.\u001b[0m\u001b[0m_generate_table_bbox\u001b[0m\u001b[0;34m(\u001b[0m\u001b[0;34m)\u001b[0m\u001b[0;34m\u001b[0m\u001b[0;34m\u001b[0m\u001b[0m\n",
            "\u001b[0;32m/usr/local/lib/python3.9/dist-packages/camelot/backends/ghostscript_backend.py\u001b[0m in \u001b[0;36mconvert\u001b[0;34m(self, pdf_path, png_path, resolution)\u001b[0m\n\u001b[1;32m     29\u001b[0m     \u001b[0;32mdef\u001b[0m \u001b[0mconvert\u001b[0m\u001b[0;34m(\u001b[0m\u001b[0mself\u001b[0m\u001b[0;34m,\u001b[0m \u001b[0mpdf_path\u001b[0m\u001b[0;34m,\u001b[0m \u001b[0mpng_path\u001b[0m\u001b[0;34m,\u001b[0m \u001b[0mresolution\u001b[0m\u001b[0;34m=\u001b[0m\u001b[0;36m300\u001b[0m\u001b[0;34m)\u001b[0m\u001b[0;34m:\u001b[0m\u001b[0;34m\u001b[0m\u001b[0;34m\u001b[0m\u001b[0m\n\u001b[1;32m     30\u001b[0m         \u001b[0;32mif\u001b[0m \u001b[0;32mnot\u001b[0m \u001b[0mself\u001b[0m\u001b[0;34m.\u001b[0m\u001b[0minstalled\u001b[0m\u001b[0;34m(\u001b[0m\u001b[0;34m)\u001b[0m\u001b[0;34m:\u001b[0m\u001b[0;34m\u001b[0m\u001b[0;34m\u001b[0m\u001b[0m\n\u001b[0;32m---> 31\u001b[0;31m             raise OSError(\n\u001b[0m\u001b[1;32m     32\u001b[0m                 \u001b[0;34m\"Ghostscript is not installed. You can install it using the instructions\"\u001b[0m\u001b[0;34m\u001b[0m\u001b[0;34m\u001b[0m\u001b[0m\n\u001b[1;32m     33\u001b[0m                 \u001b[0;34m\" here: https://camelot-py.readthedocs.io/en/master/user/install-deps.html\"\u001b[0m\u001b[0;34m\u001b[0m\u001b[0;34m\u001b[0m\u001b[0m\n",
            "\u001b[0;31mOSError\u001b[0m: Ghostscript is not installed. You can install it using the instructions here: https://camelot-py.readthedocs.io/en/master/user/install-deps.html"
          ]
        }
      ]
    },
    {
      "cell_type": "code",
      "source": [
        "import camelot\n",
        "print(camelot.__version__)\n"
      ],
      "metadata": {
        "colab": {
          "base_uri": "https://localhost:8080/"
        },
        "id": "Sd9oFOLuCKxC",
        "outputId": "1000c1f6-11a6-4508-ff7c-a245f501c078"
      },
      "execution_count": null,
      "outputs": [
        {
          "output_type": "stream",
          "name": "stdout",
          "text": [
            "0.11.0\n"
          ]
        }
      ]
    },
    {
      "cell_type": "code",
      "source": [
        "import os\n",
        "filepath = '/content/sample_data/Anthony _Chan_BTIS1013_2023A_test_B220091B.pdf'\n",
        "if os.path.exists(filepath):\n",
        "    print('File found!')\n",
        "else:\n",
        "    print('File not found.')\n"
      ],
      "metadata": {
        "colab": {
          "base_uri": "https://localhost:8080/"
        },
        "id": "h9ma5iFkBbaz",
        "outputId": "98381a0f-c1c9-4fdf-8591-58645e153c1f"
      },
      "execution_count": null,
      "outputs": [
        {
          "output_type": "stream",
          "name": "stdout",
          "text": [
            "File found!\n"
          ]
        }
      ]
    },
    {
      "cell_type": "markdown",
      "source": [
        "define function to detect red colour"
      ],
      "metadata": {
        "id": "TU1s0UtxOZhL"
      }
    },
    {
      "cell_type": "code",
      "source": [
        "# Define function to find question number and red color drawing\n",
        "def find_question_number_and_red_color_drawing(text):\n",
        "    pattern = r'Question (\\d+):'\n",
        "    matches = re.findall(pattern, text, flags=re.IGNORECASE)\n",
        "    question_numbers = []\n",
        "    for match in matches:\n",
        "        question_numbers.append(int(match))\n",
        "    page_number_pattern = r'Page (\\d+)'\n",
        "    red_color_pattern = r'(\\d+)\\s+'\n",
        "    question_number_to_red_color_dict = {}\n",
        "    page_number_to_text_dict = {}\n",
        "    for question_number in question_numbers:\n",
        "        page_number_regex = f'Question {question_number}:\\n{page_number_pattern}'\n",
        "        page_number_match = re.search(page_number_regex, text, flags=re.IGNORECASE)\n",
        "        if page_number_match is None:\n",
        "            continue\n",
        "        page_number = int(page_number_match.group(1))\n",
        "        red_color_regex = f'Question {question_number}:\\n.*{red_color_pattern}.*'\n",
        "        red_color_match = re.search(red_color_regex, text, flags=re.IGNORECASE)\n",
        "        if red_color_match is None:\n",
        "            continue\n",
        "        red_color_text = red_color_match.group(1)\n",
        "        red_color_drawings = []\n",
        "        for red_color_character in red_color_text:\n",
        "            red_color_drawings.append(fitz.Rect(0, 0, 0, 0))\n",
        "        page = doc.load_page(page_number - 1)\n",
        "        shapes = page.get_drawings()\n",
        "        for shape in shapes:\n",
        "            if shape.fill_color == (1, 0, 0):\n",
        "                for i, red_color_character in enumerate(red_color_text):\n",
        "                    if shape.intersects_rect(red_color_drawings[i]):\n",
        "                        red_color_drawings[i] = shape\n",
        "                        break\n",
        "        red_color_numbers = []\n",
        "        for red_color_drawing in red_color_drawings:\n",
        "            if red_color_drawing != fitz.Rect(0, 0, 0, 0):\n",
        "                red_color_page_number = red_color_drawing.page_number - 1\n",
        "                if red_color_page_number not in page_number_to_text_dict:\n",
        "                    red_color_page = doc.load_page(red_color_page_number)\n",
        "                    page_number_to_text_dict[red_color_page_number] = red_color_page.get_text('text')\n",
        "            red_color_text = page_number_to_text_dict[red_color_page_number]\n",
        "            red_color_text = re.sub(r'\\s+', '', red_color_text)\n",
        "            red_color_match = re.search(red_color_pattern, red_color_text)\n",
        "            if red_color_match is not None:\n",
        "                red_color_number = int(red_color_match.group(1))\n",
        "                red_color_numbers.append(red_color_number)\n",
        "    if len(red_color_numbers) > 0:\n",
        "        question_number_to_red_color_dict[question_number] = red_color_numbers\n",
        "return question_number_to_red_color_dict\n"
      ],
      "metadata": {
        "colab": {
          "base_uri": "https://localhost:8080/",
          "height": 130
        },
        "id": "AstYUxaDOcFo",
        "outputId": "5e47d18b-ea4c-4116-845c-81a00756f027"
      },
      "execution_count": null,
      "outputs": [
        {
          "output_type": "error",
          "ename": "SyntaxError",
          "evalue": "ignored",
          "traceback": [
            "\u001b[0;36m  File \u001b[0;32m\"<ipython-input-6-085b07721d4c>\"\u001b[0;36m, line \u001b[0;32m49\u001b[0m\n\u001b[0;31m    return question_number_to_red_color_dict\u001b[0m\n\u001b[0m    ^\u001b[0m\n\u001b[0;31mSyntaxError\u001b[0m\u001b[0;31m:\u001b[0m 'return' outside function\n"
          ]
        }
      ]
    },
    {
      "cell_type": "markdown",
      "source": [
        "Define function to export data to a Google Sheets spreadsheet\n",
        "def export_to_spreadsheet(data, spreadsheet_id, sheet_name):\n",
        "try:\n",
        "service = build('sheets', 'v4', credentials=creds)\n",
        "sheet = service.spreadsheets()\n",
        "result = sheet.values().get(spreadsheetId=spreadsheet_id, range=sheet_name).execute()\n",
        "values = result.get('values', [])\n",
        "row_index = len(values) + 1\n",
        "for question_number, red_color_numbers in data.items():\n",
        "column_index = question_number\n",
        "for red_color_number in red_color_numbers:\n",
        "sheet.values().update(\n",
        "spreadsheetId=spreadsheet_id,\n",
        "range=f'{sheet_name}!{chr(ord(\"A\") + column_index - 1)}{row_index}',\n",
        "valueInputOption='RAW',\n",
        "body={'values': [[red_color_number]]}\n",
        ").execute()\n",
        "column_index += 1\n",
        "print(f'Data has been exported to {sheet_name} sheet in the spreadsheet with ID {spreadsheet_id}.')\n",
        "except HttpError as error:\n",
        "print(f'An error occurred: {error}')\n",
        "return None"
      ],
      "metadata": {
        "id": "7srwyy8HOm6J"
      }
    },
    {
      "cell_type": "code",
      "source": [
        "# define function to export data to google sheets"
      ],
      "metadata": {
        "id": "3ZFuE1UzOtGv"
      },
      "execution_count": null,
      "outputs": []
    },
    {
      "cell_type": "markdown",
      "source": [
        "**Define variables**\n",
        "\n",
        "pdf_file = 'path/to/pdf/file.pdf'\n",
        "spreadsheet_id = 'spreadsheet_id'\n",
        "sheet_name = 'Sheet1'"
      ],
      "metadata": {
        "id": "5f7IvfJ6Oy-X"
      }
    },
    {
      "cell_type": "code",
      "source": [
        "#define variable"
      ],
      "metadata": {
        "id": "v7ZybCkFO8Sp"
      },
      "execution_count": null,
      "outputs": []
    },
    {
      "cell_type": "markdown",
      "source": [
        "**Extract text from PDF**\n",
        "\n",
        "text = extract_text_from_pdf(pdf_file)"
      ],
      "metadata": {
        "id": "Ym0UFoabO8oY"
      }
    },
    {
      "cell_type": "code",
      "source": [
        "#extract text from PDF"
      ],
      "metadata": {
        "id": "fhDP_CiCPEup"
      },
      "execution_count": null,
      "outputs": []
    },
    {
      "cell_type": "markdown",
      "source": [
        "**Find question number and red color drawing**\n",
        "\n",
        "question_number_to_red_color_dict = find_question_number_and_red_color_drawing(text)"
      ],
      "metadata": {
        "id": "FfZ4GrGQPGz_"
      }
    },
    {
      "cell_type": "code",
      "source": [
        "#find question number"
      ],
      "metadata": {
        "id": "afDTKLA9PMpH"
      },
      "execution_count": null,
      "outputs": []
    },
    {
      "cell_type": "markdown",
      "source": [
        "**Export data to a Google Sheets spreadsheet**\n",
        "\n",
        "export_to_spreadsheet(question_number_to_red_color_dict, spreadsheet_id, sheet_name)"
      ],
      "metadata": {
        "id": "4ZifNa3vPT5X"
      }
    },
    {
      "cell_type": "code",
      "source": [
        "#export data to a google sheets"
      ],
      "metadata": {
        "id": "TolGgOD_PVno"
      },
      "execution_count": null,
      "outputs": []
    },
    {
      "cell_type": "markdown",
      "source": [],
      "metadata": {
        "id": "lTecC9CoPX8P"
      }
    }
  ]
}